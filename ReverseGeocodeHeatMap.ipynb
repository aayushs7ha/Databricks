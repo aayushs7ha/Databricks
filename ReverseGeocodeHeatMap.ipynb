{
 "cells": [
  {
   "cell_type": "markdown",
   "metadata": {
    "application/vnd.databricks.v1+cell": {
     "cellMetadata": {
      "byteLimit": 2048000,
      "rowLimit": 10000
     },
     "inputWidgets": {},
     "nuid": "c459e08c-d0a8-40ae-8b49-93331ca60144",
     "showTitle": false,
     "title": ""
    }
   },
   "source": [
    "# Import the required Libraries"
   ]
  },
  {
   "cell_type": "code",
   "execution_count": 0,
   "metadata": {
    "application/vnd.databricks.v1+cell": {
     "cellMetadata": {
      "byteLimit": 2048000,
      "rowLimit": 10000
     },
     "inputWidgets": {},
     "nuid": "7d01a35b-af60-4396-b11e-ad3cc70fbf47",
     "showTitle": false,
     "title": ""
    }
   },
   "outputs": [
    {
     "output_type": "stream",
     "name": "stdout",
     "output_type": "stream",
     "text": [
      "Python interpreter will be restarted.\nCollecting geohash2\n  Downloading geohash2-1.1.tar.gz (15 kB)\nCollecting docutils>=0.3\n  Downloading docutils-0.20.1-py3-none-any.whl (572 kB)\nBuilding wheels for collected packages: geohash2\n  Building wheel for geohash2 (setup.py): started\n  Building wheel for geohash2 (setup.py): finished with status 'done'\n  Created wheel for geohash2: filename=geohash2-1.1-py3-none-any.whl size=15559 sha256=430f21cbd9b3790d23e729191f44c52fbfcf6f5eb932650984e9e1f48f37c22e\n  Stored in directory: /root/.cache/pip/wheels/ec/29/ab/aa2b0265ceaef06eac4aed2ca6ae1b17eb2ffb14d611f20172\nSuccessfully built geohash2\nInstalling collected packages: docutils, geohash2\nSuccessfully installed docutils-0.20.1 geohash2-1.1\nPython interpreter will be restarted.\n"
     ]
    }
   ],
   "source": [
    "pip install geohash2"
   ]
  },
  {
   "cell_type": "code",
   "execution_count": 0,
   "metadata": {
    "application/vnd.databricks.v1+cell": {
     "cellMetadata": {
      "byteLimit": 2048000,
      "rowLimit": 10000
     },
     "inputWidgets": {},
     "nuid": "08887bf2-abb6-4daa-bcc4-57c265307156",
     "showTitle": false,
     "title": ""
    }
   },
   "outputs": [
    {
     "output_type": "stream",
     "name": "stdout",
     "output_type": "stream",
     "text": [
      "Python interpreter will be restarted.\nCollecting pygeohash\n  Downloading pygeohash-1.2.0.tar.gz (5.0 kB)\nBuilding wheels for collected packages: pygeohash\n  Building wheel for pygeohash (setup.py): started\n  Building wheel for pygeohash (setup.py): finished with status 'done'\n  Created wheel for pygeohash: filename=pygeohash-1.2.0-py2.py3-none-any.whl size=6166 sha256=07eefb6687f1d9a580ae430da74f2c467ad2f34b094e254b29f9b378887b9b26\n  Stored in directory: /root/.cache/pip/wheels/6e/e7/a2/4ea56930e1cc3ece852306b842f9ca71e0cd9482cb8b848e27\nSuccessfully built pygeohash\nInstalling collected packages: pygeohash\nSuccessfully installed pygeohash-1.2.0\nPython interpreter will be restarted.\n"
     ]
    }
   ],
   "source": [
    "pip install pygeohash"
   ]
  },
  {
   "cell_type": "code",
   "execution_count": 0,
   "metadata": {
    "application/vnd.databricks.v1+cell": {
     "cellMetadata": {
      "byteLimit": 2048000,
      "rowLimit": 10000
     },
     "inputWidgets": {},
     "nuid": "68b5e13b-d08a-4a7f-9bf0-cbc86d048dea",
     "showTitle": false,
     "title": ""
    }
   },
   "outputs": [
    {
     "output_type": "stream",
     "name": "stdout",
     "output_type": "stream",
     "text": [
      "Python interpreter will be restarted.\nCollecting shapely\n  Downloading shapely-2.0.2-cp39-cp39-manylinux_2_17_x86_64.manylinux2014_x86_64.whl (2.5 MB)\nRequirement already satisfied: numpy>=1.14 in /databricks/python3/lib/python3.9/site-packages (from shapely) (1.21.5)\nInstalling collected packages: shapely\nSuccessfully installed shapely-2.0.2\nPython interpreter will be restarted.\n"
     ]
    }
   ],
   "source": [
    "pip install shapely"
   ]
  },
  {
   "cell_type": "code",
   "execution_count": 0,
   "metadata": {
    "application/vnd.databricks.v1+cell": {
     "cellMetadata": {},
     "inputWidgets": {},
     "nuid": "7db07bb6-a645-4339-a34c-003993b1064f",
     "showTitle": false,
     "title": ""
    }
   },
   "outputs": [],
   "source": [
    "pip install pykdtree"
   ]
  },
  {
   "cell_type": "code",
   "execution_count": 0,
   "metadata": {
    "application/vnd.databricks.v1+cell": {
     "cellMetadata": {
      "byteLimit": 2048000,
      "rowLimit": 10000
     },
     "inputWidgets": {},
     "nuid": "c83e8da7-5748-48dc-9b23-548b9ffcc428",
     "showTitle": false,
     "title": ""
    }
   },
   "outputs": [
    {
     "output_type": "display_data",
     "data": {
      "application/vnd.databricks.v1+bamboolib_hint": "{\"pd.DataFrames\": [], \"version\": \"0.0.1\"}",
      "text/plain": []
     },
     "metadata": {},
     "output_type": "display_data"
    }
   ],
   "source": [
    "import pyspark\n",
    "from pyspark.sql import SparkSession\n",
    "spark = SparkSession.builder.appName(\"Geohash\").getOrCreate()\n",
    "import numpy as np\n",
    "from pyspark.sql.functions import *\n",
    "import os\n",
    "import sys\n",
    "from pyspark.sql.window import Window\n",
    "from pyspark.sql.functions import row_number\n",
    "from functools import reduce\n",
    "from pyspark.sql import DataFrame\n",
    "import pyspark\n",
    "#sc=pyspark.SparkContext()\n",
    "from pyspark.context import SparkContext\n",
    "from pyspark.sql import SparkSession\n",
    "from pyspark.sql import HiveContext\n",
    "#import sys\n",
    "from pyspark.sql.window import Window\n",
    "from pyspark.sql import functions as F\n",
    "from pyspark.sql.functions import lead, lag, col ,datediff, to_date, lit, size , length , year, month, dayofmonth, from_unixtime, unix_timestamp, desc, asc, rank, min , expr, trim, date_format, avg\n",
    "import datetime\n",
    "from datetime import datetime\n",
    "from pyspark.sql.functions import regexp_replace, col\n",
    "from pyspark.sql.types import IntegerType, DoubleType, StringType, DateType, TimestampType, StructField, NumericType\n",
    "from pyspark.sql.functions import isnan\n",
    "from pyspark.sql.functions import udf\n",
    "from io import BytesIO\n",
    "#import boto3\n",
    "import math\n",
    "from pyspark.sql import Row\n",
    "#import pyarrow as pa\n",
    "import pandas as pd\n",
    "from datetime import datetime, timedelta\n",
    "#from time import gmtime, strftime ,datetime\n",
    "from pyspark.sql.functions import concat, col, lit\n",
    "from pyspark.sql.functions import count, min,max\n",
    "from pyspark.sql.functions import col, when\n",
    "spark.sql(\"set spark.sql.legacy.timeParserPolicy=LEGACY\")\n",
    "from pyspark.sql.functions import col, row_number\n",
    "import geohash2 as pgh\n",
    "import pygeohash as pgh2\n",
    "from scipy.spatial import cKDTree\n",
    "from shapely.geometry import Point"
   ]
  },
  {
   "cell_type": "markdown",
   "metadata": {
    "application/vnd.databricks.v1+cell": {
     "cellMetadata": {
      "byteLimit": 2048000,
      "rowLimit": 10000
     },
     "inputWidgets": {},
     "nuid": "b1a24685-478b-40f9-89f6-c73aa578b488",
     "showTitle": false,
     "title": ""
    }
   },
   "source": [
    "# Read the dataset "
   ]
  },
  {
   "cell_type": "code",
   "execution_count": 0,
   "metadata": {
    "application/vnd.databricks.v1+cell": {
     "cellMetadata": {
      "byteLimit": 2048000,
      "rowLimit": 10000
     },
     "inputWidgets": {},
     "nuid": "6af0d937-9d2c-4703-a117-09fbd0e21788",
     "showTitle": false,
     "title": ""
    }
   },
   "outputs": [],
   "source": [
    "df = spark.read.csv(\"/FileStore/tables/vehicle_dataset-1.csv\",header=True,inferSchema=True)"
   ]
  },
  {
   "cell_type": "code",
   "execution_count": 0,
   "metadata": {
    "application/vnd.databricks.v1+cell": {
     "cellMetadata": {
      "byteLimit": 2048000,
      "rowLimit": 10000
     },
     "inputWidgets": {},
     "nuid": "b81bbe5c-f22b-4a8b-bc87-960ecd42c66e",
     "showTitle": false,
     "title": ""
    }
   },
   "outputs": [
    {
     "output_type": "stream",
     "name": "stdout",
     "output_type": "stream",
     "text": [
      "+---------+------------------+------------------+----------+----------+-----------+-----------------+-----------+------------+-----------------+----------+\n|vehicleID|       gpsLatitude|      gpsLongitude| eventdate|       LOB|ProductLine|ParentProductLINE|Rashturning|Overspeeding|Harshacceleration|Harshbrake|\n+---------+------------------+------------------+----------+----------+-----------+-----------------+-----------+------------+-----------------+----------+\n|     7271|   86.631841050332|129.25898534880483|2022-04-15|  Personal|   ProductB|          ParentC|          3|           5|                3|         3|\n|      861| 57.44859144264761| 38.87756176747753|2022-06-26|  Personal|   ProductC|          ParentB|          5|           5|                4|         3|\n|     5391|50.079960172342815| 46.29365669442484|2022-06-03|  Personal|   ProductA|          ParentA|          0|           4|                0|         3|\n|     5192| 79.92239779367982| 135.4795766850667|2022-05-22|  Personal|   ProductB|          ParentC|          3|           1|                0|         2|\n|     5735|2.0341650508609943|24.835848906534917|2022-11-29|  Personal|   ProductC|          ParentA|          5|           3|                1|         5|\n|     6266|19.252181987825224| 4.668872279772458|2022-12-01|  Personal|   ProductA|          ParentA|          4|           5|                3|         1|\n|      467|41.744134902061994| 38.95649780177078|2022-07-05|  Personal|   ProductC|          ParentB|          1|           4|                5|         3|\n|     4427| 9.481787973435473| 85.68294916697437|2022-07-10|Commercial|   ProductC|          ParentB|          3|           3|                0|         5|\n|     5579| 35.57098831396511| 94.73346981117142|2022-07-03|  Personal|   ProductA|          ParentC|          4|           0|                2|         0|\n|     8323|34.378254288117716| 115.7834871321336|2022-10-20|  Personal|   ProductA|          ParentC|          1|           3|                2|         2|\n|     1686|  85.1931356889334|128.96063597529056|2022-11-22|Commercial|   ProductC|          ParentA|          3|           3|                0|         0|\n|      770|14.750699311138215| 94.09560770098207|2022-05-05|  Personal|   ProductC|          ParentB|          4|           5|                3|         2|\n|     6950| 42.82599392725903|141.38013049643246|2022-04-26|Commercial|   ProductC|          ParentC|          3|           2|                2|         4|\n|     2434| 9.719918606042215| 60.72650709155829|2022-11-24|Commercial|   ProductB|          ParentC|          0|           1|                5|         2|\n|     5312| 70.67587640101003|51.392345251239504|2022-04-24|  Personal|   ProductA|          ParentC|          5|           0|                4|         4|\n|     5052| 67.43517189407477| 74.95640375160514|2022-03-01|Commercial|   ProductC|          ParentA|          4|           5|                4|         4|\n|     6421| 87.16258797160106|24.384845136522898|2022-11-08|  Personal|   ProductC|          ParentA|          1|           2|                5|         3|\n|     1185|  32.2186877654112| 6.563312309104507|2022-12-02|  Personal|   ProductC|          ParentB|          2|           5|                2|         5|\n|     4556| 89.05937871343585| 16.94115502684939|2022-04-18|  Personal|   ProductC|          ParentB|          0|           5|                1|         0|\n|     3386| 62.40298796603185| 134.0280818177886|2022-04-30|  Personal|   ProductC|          ParentC|          5|           1|                3|         4|\n+---------+------------------+------------------+----------+----------+-----------+-----------------+-----------+------------+-----------------+----------+\nonly showing top 20 rows\n\n"
     ]
    }
   ],
   "source": [
    "df.show()"
   ]
  },
  {
   "cell_type": "markdown",
   "metadata": {
    "application/vnd.databricks.v1+cell": {
     "cellMetadata": {
      "byteLimit": 2048000,
      "rowLimit": 10000
     },
     "inputWidgets": {},
     "nuid": "0f3af7dd-db24-4f60-a941-da0cc7d0456a",
     "showTitle": false,
     "title": ""
    }
   },
   "source": [
    "## Geohash > Encode"
   ]
  },
  {
   "cell_type": "code",
   "execution_count": 0,
   "metadata": {
    "application/vnd.databricks.v1+cell": {
     "cellMetadata": {
      "byteLimit": 2048000,
      "rowLimit": 10000
     },
     "inputWidgets": {},
     "nuid": "17a7ecf2-d1d8-4ddb-85e0-430fa7552273",
     "showTitle": false,
     "title": ""
    }
   },
   "outputs": [],
   "source": [
    "udf1 = F.udf(lambda x,y: pgh.encode(x,y,precision=7)) # Check counts with 5 as well\n",
    "df1= df.select('vehicleID','eventdate','gpsLatitude','gpslongitude','LOB','ProductLine','ParentProductLine',\n",
    "                'rashturning','overspeeding','harshacceleration','harshbrake',\n",
    "                udf1('gpsLatitude','gpslongitude').alias('geohash_7'))"
   ]
  },
  {
   "cell_type": "code",
   "execution_count": 0,
   "metadata": {
    "application/vnd.databricks.v1+cell": {
     "cellMetadata": {
      "byteLimit": 2048000,
      "rowLimit": 10000
     },
     "inputWidgets": {},
     "nuid": "27674166-44c4-4ac6-8352-36b45447a7e5",
     "showTitle": false,
     "title": ""
    }
   },
   "outputs": [
    {
     "output_type": "stream",
     "name": "stdout",
     "output_type": "stream",
     "text": [
      "+---------+----------+------------------+------------------+----------+-----------+-----------------+-----------+------------+-----------------+----------+---------+\n|vehicleID| eventdate|       gpsLatitude|      gpslongitude|       LOB|ProductLine|ParentProductLine|rashturning|overspeeding|harshacceleration|harshbrake|geohash_7|\n+---------+----------+------------------+------------------+----------+-----------+-----------------+-----------+------------+-----------------+----------+---------+\n|     7271|2022-04-15|   86.631841050332|129.25898534880483|  Personal|   ProductB|          ParentC|          3|           5|                3|         3|  yz7uv6g|\n|      861|2022-06-26| 57.44859144264761| 38.87756176747753|  Personal|   ProductC|          ParentB|          5|           5|                4|         3|  uf5wudj|\n|     5391|2022-06-03|50.079960172342815| 46.29365669442484|  Personal|   ProductA|          ParentA|          0|           4|                0|         3|  v0buvky|\n|     5192|2022-05-22| 79.92239779367982| 135.4795766850667|  Personal|   ProductB|          ParentC|          3|           1|                0|         2|  zn0qdvm|\n|     5735|2022-11-29|2.0341650508609943|24.835848906534917|  Personal|   ProductC|          ParentA|          5|           3|                1|         5|  s83et4k|\n|     6266|2022-12-01|19.252181987825224| 4.668872279772458|  Personal|   ProductA|          ParentA|          4|           5|                3|         1|  s57md0z|\n|      467|2022-07-05|41.744134902061994| 38.95649780177078|  Personal|   ProductC|          ParentB|          1|           4|                5|         3|  sz7tqrr|\n|     4427|2022-07-10| 9.481787973435473| 85.68294916697437|Commercial|   ProductC|          ParentB|          3|           3|                0|         5|  tcsvvy0|\n|     5579|2022-07-03| 35.57098831396511| 94.73346981117142|  Personal|   ProductA|          ParentC|          4|           0|                2|         0|  wn767ew|\n|     8323|2022-10-20|34.378254288117716| 115.7834871321336|  Personal|   ProductA|          ParentC|          1|           3|                2|         2|  ww47ddq|\n|     1686|2022-11-22|  85.1931356889334|128.96063597529056|Commercial|   ProductC|          ParentA|          3|           3|                0|         0|  yz5swsf|\n|      770|2022-05-05|14.750699311138215| 94.09560770098207|  Personal|   ProductC|          ParentB|          4|           5|                3|         2|  w4dgvjq|\n|     6950|2022-04-26| 42.82599392725903|141.38013049643246|Commercial|   ProductC|          ParentC|          3|           2|                2|         4|  xpse9hj|\n|     2434|2022-11-24| 9.719918606042215| 60.72650709155829|Commercial|   ProductB|          ParentC|          0|           1|                5|         2|  t3epmc7|\n|     5312|2022-04-24| 70.67587640101003|51.392345251239504|  Personal|   ProductA|          ParentC|          5|           0|                4|         4|  vhsd16n|\n|     5052|2022-03-01| 67.43517189407477| 74.95640375160514|Commercial|   ProductC|          ParentA|          4|           5|                4|         4|  vevr9sj|\n|     6421|2022-11-08| 87.16258797160106|24.384845136522898|  Personal|   ProductC|          ParentA|          1|           2|                5|         3|  ux3rfgk|\n|     1185|2022-12-02|  32.2186877654112| 6.563312309104507|  Personal|   ProductC|          ParentB|          2|           5|                2|         5|  sjsxm35|\n|     4556|2022-04-18| 89.05937871343585| 16.94115502684939|  Personal|   ProductC|          ParentB|          0|           5|                1|         0|  uru49sb|\n|     3386|2022-04-30| 62.40298796603185| 134.0280818177886|  Personal|   ProductC|          ParentC|          5|           1|                3|         4|  ygp71bh|\n+---------+----------+------------------+------------------+----------+-----------+-----------------+-----------+------------+-----------------+----------+---------+\nonly showing top 20 rows\n\n"
     ]
    }
   ],
   "source": [
    "df1.show()"
   ]
  },
  {
   "cell_type": "code",
   "execution_count": 0,
   "metadata": {
    "application/vnd.databricks.v1+cell": {
     "cellMetadata": {
      "byteLimit": 2048000,
      "rowLimit": 10000
     },
     "inputWidgets": {},
     "nuid": "3101e8af-261a-47f2-a0c4-ab3691fa1310",
     "showTitle": false,
     "title": ""
    }
   },
   "outputs": [],
   "source": [
    "udf2 = F.udf(lambda x,y: pgh.encode(x,y,precision=5)) # Check counts with 5 as well\n",
    "df1= df1.select('vehicleID','eventdate','gpsLatitude','gpslongitude','LOB','ProductLine','ParentProductLine',\n",
    "                'rashturning','overspeeding','harshacceleration','harshbrake','geohash_7',\n",
    "                udf2('gpsLatitude','gpslongitude').alias('geohash_5'))\n"
   ]
  },
  {
   "cell_type": "code",
   "execution_count": 0,
   "metadata": {
    "application/vnd.databricks.v1+cell": {
     "cellMetadata": {
      "byteLimit": 2048000,
      "rowLimit": 10000
     },
     "inputWidgets": {},
     "nuid": "b6131742-db21-4600-adc2-7fadad9bd0c5",
     "showTitle": false,
     "title": ""
    }
   },
   "outputs": [
    {
     "output_type": "stream",
     "name": "stdout",
     "output_type": "stream",
     "text": [
      "+---------+----------+------------------+------------------+--------+-----------+-----------------+-----------+------------+-----------------+----------+---------+---------+\n|vehicleID| eventdate|       gpsLatitude|      gpslongitude|     LOB|ProductLine|ParentProductLine|rashturning|overspeeding|harshacceleration|harshbrake|geohash_7|geohash_5|\n+---------+----------+------------------+------------------+--------+-----------+-----------------+-----------+------------+-----------------+----------+---------+---------+\n|     7271|2022-04-15|   86.631841050332|129.25898534880483|Personal|   ProductB|          ParentC|          3|           5|                3|         3|  yz7uv6g|    yz7uv|\n|      861|2022-06-26| 57.44859144264761| 38.87756176747753|Personal|   ProductC|          ParentB|          5|           5|                4|         3|  uf5wudj|    uf5wu|\n|     5391|2022-06-03|50.079960172342815| 46.29365669442484|Personal|   ProductA|          ParentA|          0|           4|                0|         3|  v0buvky|    v0buv|\n+---------+----------+------------------+------------------+--------+-----------+-----------------+-----------+------------+-----------------+----------+---------+---------+\nonly showing top 3 rows\n\n"
     ]
    }
   ],
   "source": [
    " df1.show(3)"
   ]
  },
  {
   "cell_type": "markdown",
   "metadata": {
    "application/vnd.databricks.v1+cell": {
     "cellMetadata": {
      "byteLimit": 2048000,
      "rowLimit": 10000
     },
     "inputWidgets": {},
     "nuid": "4bfcac32-98d4-49d7-880f-bce693bd899b",
     "showTitle": false,
     "title": ""
    }
   },
   "source": [
    "## Decode Geohash"
   ]
  },
  {
   "cell_type": "code",
   "execution_count": 0,
   "metadata": {
    "application/vnd.databricks.v1+cell": {
     "cellMetadata": {
      "byteLimit": 2048000,
      "rowLimit": 10000
     },
     "inputWidgets": {},
     "nuid": "b34980ff-1842-46b1-8718-1672e899ecf6",
     "showTitle": false,
     "title": ""
    }
   },
   "outputs": [
    {
     "output_type": "stream",
     "name": "stdout",
     "output_type": "stream",
     "text": [
      "+---------+----------+------------------+------------------+----------+-----------------+-----------+-----------+------------+-----------------+----------+---------+---------+---------------+\n|vehicleID| eventdate|       gpsLatitude|      gpslongitude|       LOB|ParentProductLine|ProductLine|rashturning|overspeeding|harshacceleration|harshbrake|geohash_7|geohash_5|   decodedValue|\n+---------+----------+------------------+------------------+----------+-----------------+-----------+-----------+------------+-----------------+----------+---------+---------+---------------+\n|     7271|2022-04-15|   86.631841050332|129.25898534880483|  Personal|          ParentC|   ProductB|          3|           5|                3|         3|  yz7uv6g|    yz7uv|[86.63, 129.26]|\n|      861|2022-06-26| 57.44859144264761| 38.87756176747753|  Personal|          ParentB|   ProductC|          5|           5|                4|         3|  uf5wudj|    uf5wu| [57.45, 38.88]|\n|     5391|2022-06-03|50.079960172342815| 46.29365669442484|  Personal|          ParentA|   ProductA|          0|           4|                0|         3|  v0buvky|    v0buv| [50.08, 46.29]|\n|     5192|2022-05-22| 79.92239779367982| 135.4795766850667|  Personal|          ParentC|   ProductB|          3|           1|                0|         2|  zn0qdvm|    zn0qd|[79.92, 135.48]|\n|     5735|2022-11-29|2.0341650508609943|24.835848906534917|  Personal|          ParentA|   ProductC|          5|           3|                1|         5|  s83et4k|    s83et|  [2.03, 24.84]|\n|     6266|2022-12-01|19.252181987825224| 4.668872279772458|  Personal|          ParentA|   ProductA|          4|           5|                3|         1|  s57md0z|    s57md|  [19.25, 4.67]|\n|      467|2022-07-05|41.744134902061994| 38.95649780177078|  Personal|          ParentB|   ProductC|          1|           4|                5|         3|  sz7tqrr|    sz7tq| [41.74, 38.96]|\n|     4427|2022-07-10| 9.481787973435473| 85.68294916697437|Commercial|          ParentB|   ProductC|          3|           3|                0|         5|  tcsvvy0|    tcsvv|  [9.48, 85.68]|\n|     5579|2022-07-03| 35.57098831396511| 94.73346981117142|  Personal|          ParentC|   ProductA|          4|           0|                2|         0|  wn767ew|    wn767| [35.57, 94.73]|\n|     8323|2022-10-20|34.378254288117716| 115.7834871321336|  Personal|          ParentC|   ProductA|          1|           3|                2|         2|  ww47ddq|    ww47d|[34.38, 115.78]|\n|     1686|2022-11-22|  85.1931356889334|128.96063597529056|Commercial|          ParentA|   ProductC|          3|           3|                0|         0|  yz5swsf|    yz5sw|[85.19, 128.96]|\n|      770|2022-05-05|14.750699311138215| 94.09560770098207|  Personal|          ParentB|   ProductC|          4|           5|                3|         2|  w4dgvjq|    w4dgv|  [14.75, 94.1]|\n|     6950|2022-04-26| 42.82599392725903|141.38013049643246|Commercial|          ParentC|   ProductC|          3|           2|                2|         4|  xpse9hj|    xpse9|[42.83, 141.38]|\n|     2434|2022-11-24| 9.719918606042215| 60.72650709155829|Commercial|          ParentC|   ProductB|          0|           1|                5|         2|  t3epmc7|    t3epm|  [9.72, 60.73]|\n|     5312|2022-04-24| 70.67587640101003|51.392345251239504|  Personal|          ParentC|   ProductA|          5|           0|                4|         4|  vhsd16n|    vhsd1| [70.68, 51.39]|\n|     5052|2022-03-01| 67.43517189407477| 74.95640375160514|Commercial|          ParentA|   ProductC|          4|           5|                4|         4|  vevr9sj|    vevr9| [67.43, 74.96]|\n|     6421|2022-11-08| 87.16258797160106|24.384845136522898|  Personal|          ParentA|   ProductC|          1|           2|                5|         3|  ux3rfgk|    ux3rf| [87.16, 24.38]|\n|     1185|2022-12-02|  32.2186877654112| 6.563312309104507|  Personal|          ParentB|   ProductC|          2|           5|                2|         5|  sjsxm35|    sjsxm|  [32.22, 6.56]|\n|     4556|2022-04-18| 89.05937871343585| 16.94115502684939|  Personal|          ParentB|   ProductC|          0|           5|                1|         0|  uru49sb|    uru49| [89.06, 16.94]|\n|     3386|2022-04-30| 62.40298796603185| 134.0280818177886|  Personal|          ParentC|   ProductC|          5|           1|                3|         4|  ygp71bh|    ygp71| [62.4, 134.03]|\n+---------+----------+------------------+------------------+----------+-----------------+-----------+-----------+------------+-----------------+----------+---------+---------+---------------+\nonly showing top 20 rows\n\n"
     ]
    }
   ],
   "source": [
    "# UDF to decode geohash_7\n",
    "import pygeohash as pgh2\n",
    "from pyspark.sql.functions import pandas_udf, col\n",
    "from pyspark.sql.types import ArrayType, DoubleType,FloatType\n",
    "udf2 = F.udf(lambda x: pgh2.decode(x),ArrayType(FloatType()))\n",
    "\n",
    "df2 = df1.select('vehicleID','eventdate','gpsLatitude','gpslongitude','LOB','ParentProductLine','ProductLine',\n",
    "                 'rashturning','overspeeding','harshacceleration','harshbrake','geohash_7',\n",
    "                 'geohash_5',udf2('geohash_7').alias('decodedValue'))\n",
    "\n",
    "\n",
    "\n",
    "\n",
    "df2.show()"
   ]
  },
  {
   "cell_type": "code",
   "execution_count": 0,
   "metadata": {
    "application/vnd.databricks.v1+cell": {
     "cellMetadata": {
      "byteLimit": 2048000,
      "rowLimit": 10000
     },
     "inputWidgets": {},
     "nuid": "3a98894e-8d36-4460-9be3-4af96a2027ed",
     "showTitle": false,
     "title": ""
    }
   },
   "outputs": [
    {
     "output_type": "stream",
     "name": "stdout",
     "output_type": "stream",
     "text": [
      "+---------+----------+------------------+------------------+--------+-----------------+-----------+-----------+------------+-----------------+----------+---------+---------+---------------+--------+---------+\n|vehicleID| eventdate|       gpsLatitude|      gpslongitude|     LOB|ParentProductLine|ProductLine|rashturning|overspeeding|harshacceleration|harshbrake|geohash_7|geohash_5|   decodedValue|Latitude|Longitude|\n+---------+----------+------------------+------------------+--------+-----------------+-----------+-----------+------------+-----------------+----------+---------+---------+---------------+--------+---------+\n|     7271|2022-04-15|   86.631841050332|129.25898534880483|Personal|          ParentC|   ProductB|          3|           5|                3|         3|  yz7uv6g|    yz7uv|[86.63, 129.26]|   86.63|   129.26|\n|      861|2022-06-26| 57.44859144264761| 38.87756176747753|Personal|          ParentB|   ProductC|          5|           5|                4|         3|  uf5wudj|    uf5wu| [57.45, 38.88]|   57.45|    38.88|\n|     5391|2022-06-03|50.079960172342815| 46.29365669442484|Personal|          ParentA|   ProductA|          0|           4|                0|         3|  v0buvky|    v0buv| [50.08, 46.29]|   50.08|    46.29|\n+---------+----------+------------------+------------------+--------+-----------------+-----------+-----------+------------+-----------------+----------+---------+---------+---------------+--------+---------+\nonly showing top 3 rows\n\n"
     ]
    }
   ],
   "source": [
    "from pyspark.sql.functions import split\n",
    "from pyspark.sql.functions import col\n",
    "# split the decoded value into latitude and longitude columns\n",
    "df3 = df2.withColumn(\"Latitude\", col(\"decodedValue\")[0].cast(\"float\"))\n",
    "df3 = df3.withColumn(\"Longitude\", col(\"decodedValue\")[1].cast(\"float\"))\n",
    "df3.show(3)\n"
   ]
  },
  {
   "cell_type": "code",
   "execution_count": 0,
   "metadata": {
    "application/vnd.databricks.v1+cell": {
     "cellMetadata": {
      "byteLimit": 2048000,
      "rowLimit": 10000
     },
     "inputWidgets": {},
     "nuid": "27ed1e9a-c197-498d-8151-9e00fec82113",
     "showTitle": false,
     "title": ""
    }
   },
   "outputs": [],
   "source": [
    "df4= df3.drop(\"decodedValue\")"
   ]
  },
  {
   "cell_type": "code",
   "execution_count": 0,
   "metadata": {
    "application/vnd.databricks.v1+cell": {
     "cellMetadata": {
      "byteLimit": 2048000,
      "rowLimit": 10000
     },
     "inputWidgets": {},
     "nuid": "92c181c1-41ce-4987-829e-2accf6d593cf",
     "showTitle": false,
     "title": ""
    }
   },
   "outputs": [
    {
     "output_type": "stream",
     "name": "stdout",
     "output_type": "stream",
     "text": [
      "+---------+----------+------------------+------------------+----------+-----------------+-----------+-----------+------------+-----------------+----------+---------+---------+--------+---------+\n|vehicleID| eventdate|       gpsLatitude|      gpslongitude|       LOB|ParentProductLine|ProductLine|rashturning|overspeeding|harshacceleration|harshbrake|geohash_7|geohash_5|Latitude|Longitude|\n+---------+----------+------------------+------------------+----------+-----------------+-----------+-----------+------------+-----------------+----------+---------+---------+--------+---------+\n|     7271|2022-04-15|   86.631841050332|129.25898534880483|  Personal|          ParentC|   ProductB|          3|           5|                3|         3|  yz7uv6g|    yz7uv|   86.63|   129.26|\n|      861|2022-06-26| 57.44859144264761| 38.87756176747753|  Personal|          ParentB|   ProductC|          5|           5|                4|         3|  uf5wudj|    uf5wu|   57.45|    38.88|\n|     5391|2022-06-03|50.079960172342815| 46.29365669442484|  Personal|          ParentA|   ProductA|          0|           4|                0|         3|  v0buvky|    v0buv|   50.08|    46.29|\n|     5192|2022-05-22| 79.92239779367982| 135.4795766850667|  Personal|          ParentC|   ProductB|          3|           1|                0|         2|  zn0qdvm|    zn0qd|   79.92|   135.48|\n|     5735|2022-11-29|2.0341650508609943|24.835848906534917|  Personal|          ParentA|   ProductC|          5|           3|                1|         5|  s83et4k|    s83et|    2.03|    24.84|\n|     6266|2022-12-01|19.252181987825224| 4.668872279772458|  Personal|          ParentA|   ProductA|          4|           5|                3|         1|  s57md0z|    s57md|   19.25|     4.67|\n|      467|2022-07-05|41.744134902061994| 38.95649780177078|  Personal|          ParentB|   ProductC|          1|           4|                5|         3|  sz7tqrr|    sz7tq|   41.74|    38.96|\n|     4427|2022-07-10| 9.481787973435473| 85.68294916697437|Commercial|          ParentB|   ProductC|          3|           3|                0|         5|  tcsvvy0|    tcsvv|    9.48|    85.68|\n|     5579|2022-07-03| 35.57098831396511| 94.73346981117142|  Personal|          ParentC|   ProductA|          4|           0|                2|         0|  wn767ew|    wn767|   35.57|    94.73|\n|     8323|2022-10-20|34.378254288117716| 115.7834871321336|  Personal|          ParentC|   ProductA|          1|           3|                2|         2|  ww47ddq|    ww47d|   34.38|   115.78|\n|     1686|2022-11-22|  85.1931356889334|128.96063597529056|Commercial|          ParentA|   ProductC|          3|           3|                0|         0|  yz5swsf|    yz5sw|   85.19|   128.96|\n|      770|2022-05-05|14.750699311138215| 94.09560770098207|  Personal|          ParentB|   ProductC|          4|           5|                3|         2|  w4dgvjq|    w4dgv|   14.75|     94.1|\n|     6950|2022-04-26| 42.82599392725903|141.38013049643246|Commercial|          ParentC|   ProductC|          3|           2|                2|         4|  xpse9hj|    xpse9|   42.83|   141.38|\n|     2434|2022-11-24| 9.719918606042215| 60.72650709155829|Commercial|          ParentC|   ProductB|          0|           1|                5|         2|  t3epmc7|    t3epm|    9.72|    60.73|\n|     5312|2022-04-24| 70.67587640101003|51.392345251239504|  Personal|          ParentC|   ProductA|          5|           0|                4|         4|  vhsd16n|    vhsd1|   70.68|    51.39|\n|     5052|2022-03-01| 67.43517189407477| 74.95640375160514|Commercial|          ParentA|   ProductC|          4|           5|                4|         4|  vevr9sj|    vevr9|   67.43|    74.96|\n|     6421|2022-11-08| 87.16258797160106|24.384845136522898|  Personal|          ParentA|   ProductC|          1|           2|                5|         3|  ux3rfgk|    ux3rf|   87.16|    24.38|\n|     1185|2022-12-02|  32.2186877654112| 6.563312309104507|  Personal|          ParentB|   ProductC|          2|           5|                2|         5|  sjsxm35|    sjsxm|   32.22|     6.56|\n|     4556|2022-04-18| 89.05937871343585| 16.94115502684939|  Personal|          ParentB|   ProductC|          0|           5|                1|         0|  uru49sb|    uru49|   89.06|    16.94|\n|     3386|2022-04-30| 62.40298796603185| 134.0280818177886|  Personal|          ParentC|   ProductC|          5|           1|                3|         4|  ygp71bh|    ygp71|    62.4|   134.03|\n+---------+----------+------------------+------------------+----------+-----------------+-----------+-----------+------------+-----------------+----------+---------+---------+--------+---------+\nonly showing top 20 rows\n\n"
     ]
    }
   ],
   "source": [
    "df4.show()"
   ]
  },
  {
   "cell_type": "code",
   "execution_count": 0,
   "metadata": {
    "application/vnd.databricks.v1+cell": {
     "cellMetadata": {
      "byteLimit": 2048000,
      "rowLimit": 10000
     },
     "inputWidgets": {},
     "nuid": "d931fafa-437c-4834-aad5-8dcb90dc4da5",
     "showTitle": false,
     "title": ""
    }
   },
   "outputs": [],
   "source": [
    "df5=df4.select('vehicleId','geohash_7','Latitude', 'Longitude','eventDate','LOB','ProductLine','ParentProductLine','rashturning','overspeeding','harshacceleration','harshbrake').groupBy('geohash_7','vehicleId','Latitude', 'Longitude','eventDate','LOB','ProductLine','ParentProductLine','rashturning','overspeeding','harshacceleration','harshbrake').agg(countDistinct('vehicleId'))"
   ]
  },
  {
   "cell_type": "code",
   "execution_count": 0,
   "metadata": {
    "application/vnd.databricks.v1+cell": {
     "cellMetadata": {
      "byteLimit": 2048000,
      "rowLimit": 10000
     },
     "inputWidgets": {},
     "nuid": "ad54eb0c-afb2-4505-907d-239bacee77cc",
     "showTitle": false,
     "title": ""
    }
   },
   "outputs": [
    {
     "output_type": "stream",
     "name": "stdout",
     "output_type": "stream",
     "text": [
      "+---------+---------+--------+---------+----------+----------+-----------+-----------------+-----------+------------+-----------------+----------+----------------+\n|geohash_7|vehicleId|Latitude|Longitude| eventDate|       LOB|ProductLine|ParentProductLine|rashturning|overspeeding|harshacceleration|harshbrake|count(vehicleId)|\n+---------+---------+--------+---------+----------+----------+-----------+-----------------+-----------+------------+-----------------+----------+----------------+\n|  wnbujje|     1307|    38.7|    91.28|2022-11-14|Commercial|   ProductA|          ParentC|          0|           2|                0|         2|               1|\n|  t66ud5r|     7281|   13.47|    60.22|2022-06-09|  Personal|   ProductC|          ParentA|          5|           0|                1|         2|               1|\n|  zr1wptz|      570|   85.46|    148.7|2022-11-01|  Personal|   ProductB|          ParentC|          0|           3|                5|         4|               1|\n|  wf073gc|     9208|   11.84|   124.18|2022-12-21|Commercial|   ProductB|          ParentA|          1|           0|                5|         3|               1|\n|  s982pn9|     4730|    8.47|    23.16|2022-01-13|Commercial|   ProductA|          ParentC|          1|           0|                5|         2|               1|\n|  wh0jetj|     4859|   23.49|    90.16|2022-01-28|Commercial|   ProductB|          ParentC|          5|           4|                5|         2|               1|\n|  tq3c4rv|     3580|   35.38|    58.82|2022-10-06|  Personal|   ProductB|          ParentB|          1|           4|                4|         2|               1|\n|  yhfg2ws|     6239|   72.33|     93.9|2022-03-01|Commercial|   ProductC|          ParentA|          3|           1|                3|         0|               1|\n|  utth47q|      118|   76.66|    29.64|2022-01-05|Commercial|   ProductA|          ParentC|          4|           0|                2|         4|               1|\n|  w7uw5xn|      601|   22.19|   107.74|2022-06-03|Commercial|   ProductC|          ParentB|          0|           5|                4|         4|               1|\n|  zmq6vrd|     8390|   75.06|   155.27|2022-11-07|  Personal|   ProductC|          ParentA|          1|           1|                1|         2|               1|\n|  xnq5bdz|     2422|   35.83|   143.47|2022-05-28|  Personal|   ProductA|          ParentB|          2|           5|                3|         5|               1|\n|  tzu9fd0|     7127|   43.91|    85.19|2022-06-30|Commercial|   ProductB|          ParentC|          4|           4|                1|         1|               1|\n|  ydux7qp|     9156|   61.78|   118.98|2022-02-25|  Personal|   ProductB|          ParentA|          5|           1|                3|         5|               1|\n|  wv8y50v|     6403|    32.0|   124.94|2022-11-22|Commercial|   ProductB|          ParentB|          5|           3|                4|         5|               1|\n|  wf8hkrd|     6060|   14.85|   123.94|2022-12-06|Commercial|   ProductA|          ParentB|          4|           0|                4|         3|               1|\n|  tfc77fe|     9128|   16.05|    80.68|2022-09-25|  Personal|   ProductB|          ParentB|          3|           0|                1|         4|               1|\n|  ss95t0x|     2431|   25.93|    24.14|2022-10-28|Commercial|   ProductC|          ParentB|          4|           0|                2|         1|               1|\n|  uc2bhe3|     6431|   52.05|     35.0|2022-07-31|Commercial|   ProductC|          ParentA|          0|           1|                4|         5|               1|\n|  s6mkkxn|       23|   13.44|    18.84|2022-10-08|  Personal|   ProductB|          ParentA|          2|           2|                2|         5|               1|\n+---------+---------+--------+---------+----------+----------+-----------+-----------------+-----------+------------+-----------------+----------+----------------+\nonly showing top 20 rows\n\n"
     ]
    }
   ],
   "source": [
    "df5.show()"
   ]
  },
  {
   "cell_type": "code",
   "execution_count": 0,
   "metadata": {
    "application/vnd.databricks.v1+cell": {
     "cellMetadata": {
      "byteLimit": 2048000,
      "rowLimit": 10000
     },
     "inputWidgets": {},
     "nuid": "66144696-f31f-4e6f-ae7b-eefcf6782578",
     "showTitle": false,
     "title": ""
    }
   },
   "outputs": [],
   "source": [
    "df5 = df5.withColumnRenamed(\"count(vehicleId)\", \"VinCount\")\n"
   ]
  },
  {
   "cell_type": "code",
   "execution_count": 0,
   "metadata": {
    "application/vnd.databricks.v1+cell": {
     "cellMetadata": {
      "byteLimit": 2048000,
      "rowLimit": 10000
     },
     "inputWidgets": {},
     "nuid": "7fda4734-87b2-4d17-b790-a9fe8e6bd4d4",
     "showTitle": false,
     "title": ""
    }
   },
   "outputs": [
    {
     "output_type": "stream",
     "name": "stdout",
     "output_type": "stream",
     "text": [
      "Out[20]: ['geohash_7',\n 'vehicleId',\n 'Latitude',\n 'Longitude',\n 'eventDate',\n 'LOB',\n 'ProductLine',\n 'ParentProductLine',\n 'rashturning',\n 'overspeeding',\n 'harshacceleration',\n 'harshbrake',\n 'VinCount']"
     ]
    }
   ],
   "source": [
    "df5.columns"
   ]
  },
  {
   "cell_type": "code",
   "execution_count": 0,
   "metadata": {
    "application/vnd.databricks.v1+cell": {
     "cellMetadata": {
      "byteLimit": 2048000,
      "rowLimit": 10000
     },
     "inputWidgets": {},
     "nuid": "40a063f4-ca67-4d9e-aa9a-514b9b01bd25",
     "showTitle": false,
     "title": ""
    }
   },
   "outputs": [
    {
     "output_type": "stream",
     "name": "stdout",
     "output_type": "stream",
     "text": [
      "150000\n150000\n"
     ]
    }
   ],
   "source": [
    "print(df.count())\n",
    "print(df5.count())"
   ]
  },
  {
   "cell_type": "code",
   "execution_count": 0,
   "metadata": {
    "application/vnd.databricks.v1+cell": {
     "cellMetadata": {
      "byteLimit": 2048000,
      "rowLimit": 10000
     },
     "inputWidgets": {},
     "nuid": "81aca813-da99-429e-b27a-02a24ffc8b78",
     "showTitle": false,
     "title": ""
    }
   },
   "outputs": [],
   "source": [
    "from pyspark.sql.functions import col, sum as _sum\n",
    "# Filter the original DataFrame to create four separate DataFrames\n",
    "rashturning_df = df5.filter((col(\"rashturning\") > 0) & (col(\"overspeeding\") == 0) & (col(\"harshacceleration\") == 0) & (col(\"harshbrake\") == 0))\n",
    "overspeeding_df = df5.filter((col(\"rashturning\") == 0) & (col(\"overspeeding\") > 0) & (col(\"harshacceleration\") == 0) & (col(\"harshbrake\") == 0))\n",
    "harshacceleration_df = df5.filter((col(\"rashturning\") == 0) & (col(\"overspeeding\") == 0) & (col(\"harshacceleration\") > 0) & (col(\"harshbrake\") == 0))\n",
    "harshbrake_df = df5.filter((col(\"rashturning\") == 0) & (col(\"overspeeding\") == 0) & (col(\"harshacceleration\") == 0) & (col(\"harshbrake\") > 0))\n",
    "\n",
    "# Aggregate VinCount in a temporary DataFrame\n",
    "vincount_df = df5.groupBy(\"vehicleID\").agg(_sum(\"VinCount\").alias(\"totalVinCount\"))\n",
    "vincount_df = vincount_df.filter(col(\"totalVinCount\") > 10)\n",
    "\n",
    "# Join the filtered DataFrames with the aggregated VinCount DataFrame\n",
    "rashturning_df = rashturning_df.join(vincount_df, \"vehicleID\")\n",
    "overspeeding_df = overspeeding_df.join(vincount_df, \"vehicleID\")\n",
    "harshacceleration_df = harshacceleration_df.join(vincount_df, \"vehicleID\")\n",
    "harshbrake_df = harshbrake_df.join(vincount_df, \"vehicleID\")\n"
   ]
  },
  {
   "cell_type": "code",
   "execution_count": 0,
   "metadata": {
    "application/vnd.databricks.v1+cell": {
     "cellMetadata": {
      "byteLimit": 2048000,
      "rowLimit": 10000
     },
     "inputWidgets": {},
     "nuid": "c40733cc-b4a0-4b4f-92aa-108055e6ed14",
     "showTitle": false,
     "title": ""
    }
   },
   "outputs": [
    {
     "output_type": "stream",
     "name": "stdout",
     "output_type": "stream",
     "text": [
      "Overspeeding :  507\nharshacceleration :  562\nharshbrake :  507\nrashturning :  555\n"
     ]
    }
   ],
   "source": [
    "print(\"Overspeeding : \", overspeeding_df.count())\n",
    "print(\"harshacceleration : \", harshacceleration_df.count())\n",
    "print(\"harshbrake : \", overspeeding_df.count())\n",
    "print(\"rashturning : \", rashturning_df.count())"
   ]
  },
  {
   "cell_type": "markdown",
   "metadata": {
    "application/vnd.databricks.v1+cell": {
     "cellMetadata": {
      "byteLimit": 2048000,
      "rowLimit": 10000
     },
     "inputWidgets": {},
     "nuid": "5a618698-cc01-4798-8aa9-ef5009b23e96",
     "showTitle": false,
     "title": ""
    }
   },
   "source": [
    "### Reverse Geocode "
   ]
  },
  {
   "cell_type": "markdown",
   "metadata": {
    "application/vnd.databricks.v1+cell": {
     "cellMetadata": {
      "byteLimit": 2048000,
      "rowLimit": 10000
     },
     "collapsed": true,
     "inputWidgets": {},
     "nuid": "a41e56b0-f166-4daa-86c5-481a7a44ccee",
     "showTitle": false,
     "title": ""
    }
   },
   "source": [
    "from pyspark.sql import SparkSession\n",
    "from pyspark.sql.functions import udf, struct, col\n",
    "from pyspark.sql.types import StructType, StructField, StringType\n",
    "from geopy.geocoders import Nominatim\n",
    "\n",
    "# Create a SparkSession\n",
    "spark = SparkSession.builder.getOrCreate()\n",
    "\n",
    "# Sample DataFrame (replace this with your actual DataFrame)\n",
    "data = [\n",
    "    (1, \"2024-01-30\", 37.7749, -122.4194, \"LOB1\", \"ParentPL1\", \"PL1\", 1, 0, 0, 0),\n",
    "    (2, \"2024-01-31\", 34.0522, -118.2437, \"LOB2\", \"ParentPL2\", \"PL2\", 0, 1, 0, 1),\n",
    "    # Add more rows as needed\n",
    "]\n",
    "\n",
    "schema = [\"vehicleID\", \"eventdate\", \"gpsLatitude\", \"gpsLongitude\", \"LOB\", \"ParentProductLine\", \"ProductLine\", \"rashturning\", \"overspeeding\", \"harshacceleration\", \"harshbrake\"]\n",
    "\n",
    "df = spark.createDataFrame(data, schema=schema)\n",
    "\n",
    "# Define the UDF for reverse geocoding using geopy\n",
    "geolocator = Nominatim(user_agent=\"reverse_geocoding_example\")\n",
    "\n",
    "def reverse_geocode(latitude, longitude):\n",
    "    location = geolocator.reverse((latitude, longitude))\n",
    "    address = location.address.split(', ')\n",
    "    return {\n",
    "        'City_Town': address[0],\n",
    "        'State': address[-3],\n",
    "        'District': address[-4]\n",
    "    }\n",
    "\n",
    "# Register the UDF with the return type as struct\n",
    "reverse_geocode_udf = udf(reverse_geocode, StructType([\n",
    "    StructField('City_Town', StringType(), nullable=False),\n",
    "    StructField('State', StringType(), nullable=False),\n",
    "    StructField('District', StringType(), nullable=False)\n",
    "]))\n",
    "\n",
    "# Add the UDF to the DataFrame and extract individual fields\n",
    "df_with_geocoded_data = df.withColumn(\n",
    "    'data', reverse_geocode_udf('gpsLatitude', 'gpsLongitude')\n",
    ").withColumn(\n",
    "    'City_Town', col('data').getField('City_Town')\n",
    ").withColumn(\n",
    "    'State', col('data').getField('State')\n",
    ").withColumn(\n",
    "    'District', col('data').getField('District')\n",
    ")\n",
    "\n",
    "# Drop the unnecessary columns\n",
    "df_with_geocoded_data = df_with_geocoded_data.drop('data')\n",
    "\n",
    "# Show the resulting DataFrame\n",
    "df_with_geocoded_data.show(truncate=False)\n"
   ]
  },
  {
   "cell_type": "markdown",
   "metadata": {
    "application/vnd.databricks.v1+cell": {
     "cellMetadata": {
      "byteLimit": 2048000,
      "rowLimit": 10000
     },
     "inputWidgets": {},
     "nuid": "362b05d2-67aa-4270-8ef9-59ac1a824860",
     "showTitle": false,
     "title": ""
    }
   },
   "source": [
    "## ckdTree"
   ]
  },
  {
   "cell_type": "code",
   "execution_count": 0,
   "metadata": {
    "application/vnd.databricks.v1+cell": {
     "cellMetadata": {
      "byteLimit": 2048000,
      "rowLimit": 10000
     },
     "inputWidgets": {},
     "nuid": "459a344f-15ab-4b5a-87e9-80d0b036e7ad",
     "showTitle": false,
     "title": ""
    }
   },
   "outputs": [],
   "source": [
    "# Importing worldcities dataset "
   ]
  },
  {
   "cell_type": "code",
   "execution_count": 0,
   "metadata": {
    "application/vnd.databricks.v1+cell": {
     "cellMetadata": {
      "byteLimit": 2048000,
      "rowLimit": 10000
     },
     "inputWidgets": {},
     "nuid": "9108b71c-94ec-47e1-844a-e61db5ed0307",
     "showTitle": false,
     "title": ""
    }
   },
   "outputs": [],
   "source": [
    "world_cities = spark.read.csv(\"/FileStore/tables/worldcities.csv\",header=True,inferSchema=True)"
   ]
  },
  {
   "cell_type": "code",
   "execution_count": 0,
   "metadata": {
    "application/vnd.databricks.v1+cell": {
     "cellMetadata": {
      "byteLimit": 2048000,
      "rowLimit": 10000
     },
     "inputWidgets": {},
     "nuid": "2115bd06-a666-4494-875f-18524b312428",
     "showTitle": false,
     "title": ""
    }
   },
   "outputs": [
    {
     "output_type": "stream",
     "name": "stdout",
     "output_type": "stream",
     "text": [
      "+-------+----------+-------+--------+---------+----+----+----------+-------+----------+----------+\n|   city|city_ascii|    lat|     lng|  country|iso2|iso3|admin_name|capital|population|        id|\n+-------+----------+-------+--------+---------+----+----+----------+-------+----------+----------+\n|  Tokyo|     Tokyo|35.6839|139.7744|    Japan|  JP| JPN|     Tōkyō|primary|  3.9105E7|1392685764|\n|Jakarta|   Jakarta|-6.2146|106.8451|Indonesia|  ID| IDN|   Jakarta|primary|  3.5362E7|1360771077|\n|  Delhi|     Delhi|28.6667| 77.2167|    India|  IN| IND|     Delhi|  admin|   3.187E7|1356872604|\n+-------+----------+-------+--------+---------+----+----+----------+-------+----------+----------+\nonly showing top 3 rows\n\n"
     ]
    }
   ],
   "source": [
    "world_cities.show(3)"
   ]
  },
  {
   "cell_type": "code",
   "execution_count": 0,
   "metadata": {
    "application/vnd.databricks.v1+cell": {
     "cellMetadata": {
      "byteLimit": 2048000,
      "rowLimit": 10000
     },
     "inputWidgets": {},
     "nuid": "6fffcb56-73d0-4f34-9033-7ef8095f7fbb",
     "showTitle": false,
     "title": ""
    }
   },
   "outputs": [],
   "source": [
    "world_cities = world_cities.filter(col(\"country\") == 'India')"
   ]
  },
  {
   "cell_type": "code",
   "execution_count": 0,
   "metadata": {
    "application/vnd.databricks.v1+cell": {
     "cellMetadata": {
      "byteLimit": 2048000,
      "rowLimit": 10000
     },
     "inputWidgets": {},
     "nuid": "d4d5d1c1-615b-427f-b31e-8e7dfbc09db6",
     "showTitle": false,
     "title": ""
    }
   },
   "outputs": [
    {
     "output_type": "stream",
     "name": "stdout",
     "output_type": "stream",
     "text": [
      "Out[28]: 1600"
     ]
    }
   ],
   "source": [
    "world_cities.count()"
   ]
  },
  {
   "cell_type": "code",
   "execution_count": 0,
   "metadata": {
    "application/vnd.databricks.v1+cell": {
     "cellMetadata": {
      "byteLimit": 2048000,
      "rowLimit": 10000
     },
     "inputWidgets": {},
     "nuid": "48d65429-c851-4e35-8683-c5adb8d45e86",
     "showTitle": false,
     "title": ""
    }
   },
   "outputs": [
    {
     "output_type": "stream",
     "name": "stdout",
     "output_type": "stream",
     "text": [
      "+--------------+--------------+-------+-------+-------+----+----+--------------+-------+----------+----------+\n|          city|    city_ascii|    lat|    lng|country|iso2|iso3|    admin_name|capital|population|        id|\n+--------------+--------------+-------+-------+-------+----+----+--------------+-------+----------+----------+\n|         Delhi|         Delhi|28.6667|77.2167|  India|  IN| IND|         Delhi|  admin|   3.187E7|1356872604|\n|        Mumbai|        Mumbai|19.0758|72.8775|  India|  IN| IND|   Mahārāshtra|  admin|  2.2186E7|1356226629|\n|       Kolkāta|       Kolkata|22.5727|88.3639|  India|  IN| IND|   West Bengal|  admin|  1.8698E7|1356060520|\n|     Bangalore|     Bangalore|12.9791|77.5913|  India|  IN| IND|     Karnātaka|  admin|  1.3999E7|1356410365|\n|       Chennai|       Chennai|13.0825| 80.275|  India|  IN| IND|    Tamil Nādu|  admin|  1.1564E7|1356374944|\n|     Hyderābād|     Hyderabad|17.3617|78.4747|  India|  IN| IND|     Telangana|  admin| 9840000.0|1356871768|\n|          Pune|          Pune|18.5196|73.8553|  India|  IN| IND|   Mahārāshtra|   null| 7948000.0|1356081074|\n|     Ahmedabad|     Ahmedabad|  23.03|  72.58|  India|  IN| IND|       Gujarāt|  minor| 7717000.0|1356304381|\n|     Allahābād|     Allahabad|  25.45|  81.85|  India|  IN| IND| Uttar Pradesh|   null| 5954391.0|1356718332|\n|         Sūrat|         Surat|  21.17|  72.83|  India|  IN| IND|       Gujarāt|   null| 4875000.0|1356758738|\n|       Lucknow|       Lucknow| 26.847| 80.947|  India|  IN| IND| Uttar Pradesh|  admin| 3382000.0|1356891790|\n|        Jaipur|        Jaipur|26.9167|75.8667|  India|  IN| IND|     Rājasthān|  admin| 3073350.0|1356293537|\n|      Cawnpore|      Cawnpore|26.4725|80.3311|  India|  IN| IND| Uttar Pradesh|   null| 2701324.0|1356575238|\n|      Mirzāpur|      Mirzapur|  25.15|  82.58|  India|  IN| IND| Uttar Pradesh|   null| 2496970.0|1356427908|\n|        Nāgpur|        Nagpur|21.1539|79.0831|  India|  IN| IND|   Mahārāshtra|   null| 2405665.0|1356365743|\n|     Ghāziābād|     Ghaziabad|28.6667|77.4167|  India|  IN| IND| Uttar Pradesh|   null| 2375820.0|1356691871|\n|      Vadodara|      Vadodara|   22.3|   73.2|  India|  IN| IND|       Gujarāt|   null| 2065771.0|1356705249|\n|Vishākhapatnam|Vishakhapatnam|17.7333|83.3167|  India|  IN| IND|Andhra Pradesh|   null| 2035922.0|1356692563|\n|        Indore|        Indore|22.7206|75.8472|  India|  IN| IND|Madhya Pradesh|   null| 1994397.0|1356402812|\n|         Thāne|         Thane|  19.18|72.9633|  India|  IN| IND|   Mahārāshtra|   null| 1886941.0|1356681152|\n+--------------+--------------+-------+-------+-------+----+----+--------------+-------+----------+----------+\nonly showing top 20 rows\n\n"
     ]
    }
   ],
   "source": [
    "world_cities.show()"
   ]
  },
  {
   "cell_type": "code",
   "execution_count": 0,
   "metadata": {
    "application/vnd.databricks.v1+cell": {
     "cellMetadata": {
      "byteLimit": 2048000,
      "rowLimit": 10000
     },
     "inputWidgets": {},
     "nuid": "57b05ded-22af-47a0-aa8d-c23af63cc9f0",
     "showTitle": false,
     "title": ""
    }
   },
   "outputs": [],
   "source": [
    "def create_geometry(lat, lng):\n",
    "    return Point(float(lng), float(lat))\n",
    "\n",
    "create_geometry_udf = udf(create_geometry)"
   ]
  },
  {
   "cell_type": "code",
   "execution_count": 0,
   "metadata": {
    "application/vnd.databricks.v1+cell": {
     "cellMetadata": {
      "byteLimit": 2048000,
      "rowLimit": 10000
     },
     "inputWidgets": {},
     "nuid": "e9141f00-c119-45d1-aac5-50ebc915cf51",
     "showTitle": false,
     "title": ""
    }
   },
   "outputs": [],
   "source": [
    "df_ind = world_cities.select(\"city_ascii\", \"lat\", \"lng\")"
   ]
  },
  {
   "cell_type": "code",
   "execution_count": 0,
   "metadata": {
    "application/vnd.databricks.v1+cell": {
     "cellMetadata": {
      "byteLimit": 2048000,
      "rowLimit": 10000
     },
     "inputWidgets": {},
     "nuid": "33118f54-6057-481b-92cf-9080168d42c7",
     "showTitle": false,
     "title": ""
    }
   },
   "outputs": [
    {
     "output_type": "stream",
     "name": "stdout",
     "output_type": "stream",
     "text": [
      "+--------------+-------+-------+\n|    city_ascii|    lat|    lng|\n+--------------+-------+-------+\n|         Delhi|28.6667|77.2167|\n|        Mumbai|19.0758|72.8775|\n|       Kolkata|22.5727|88.3639|\n|     Bangalore|12.9791|77.5913|\n|       Chennai|13.0825| 80.275|\n|     Hyderabad|17.3617|78.4747|\n|          Pune|18.5196|73.8553|\n|     Ahmedabad|  23.03|  72.58|\n|     Allahabad|  25.45|  81.85|\n|         Surat|  21.17|  72.83|\n|       Lucknow| 26.847| 80.947|\n|        Jaipur|26.9167|75.8667|\n|      Cawnpore|26.4725|80.3311|\n|      Mirzapur|  25.15|  82.58|\n|        Nagpur|21.1539|79.0831|\n|     Ghaziabad|28.6667|77.4167|\n|      Vadodara|   22.3|   73.2|\n|Vishakhapatnam|17.7333|83.3167|\n|        Indore|22.7206|75.8472|\n|         Thane|  19.18|72.9633|\n+--------------+-------+-------+\nonly showing top 20 rows\n\n"
     ]
    }
   ],
   "source": [
    "df_ind.show()"
   ]
  },
  {
   "cell_type": "code",
   "execution_count": 0,
   "metadata": {
    "application/vnd.databricks.v1+cell": {
     "cellMetadata": {
      "byteLimit": 2048000,
      "rowLimit": 10000
     },
     "inputWidgets": {},
     "nuid": "1823ae57-8460-45e8-a050-e8f6e89b1784",
     "showTitle": false,
     "title": ""
    }
   },
   "outputs": [],
   "source": [
    "from pyspark.sql.functions import col\n",
    "from pyspark.sql import Row\n",
    "from pyspark.sql import SparkSession\n",
    "from scipy.spatial import cKDTree\n",
    "\n",
    "# Collect the latitude, longitude, and city_ascii columns from df2\n",
    "df2_coords = df_ind.select(\"lat\", \"lng\", \"city_ascii\").collect()\n",
    "\n",
    "# Create KDTree for df2 coordinates\n",
    "kdtree = cKDTree([(row[\"lat\"], row[\"lng\"]) for row in df2_coords])"
   ]
  },
  {
   "cell_type": "code",
   "execution_count": 0,
   "metadata": {
    "application/vnd.databricks.v1+cell": {
     "cellMetadata": {
      "byteLimit": 2048000,
      "rowLimit": 10000
     },
     "inputWidgets": {},
     "nuid": "c55a2f48-2208-4a6c-9632-38d15421fdf3",
     "showTitle": false,
     "title": ""
    }
   },
   "outputs": [],
   "source": [
    "# Testing with sample data "
   ]
  },
  {
   "cell_type": "code",
   "execution_count": 0,
   "metadata": {
    "application/vnd.databricks.v1+cell": {
     "cellMetadata": {
      "byteLimit": 2048000,
      "rowLimit": 10000
     },
     "inputWidgets": {},
     "nuid": "0defc0b7-f649-4d17-8860-259288e9c77f",
     "showTitle": false,
     "title": ""
    }
   },
   "outputs": [
    {
     "output_type": "stream",
     "name": "stdout",
     "output_type": "stream",
     "text": [
      "+--------+---------+\n|Latitude|Longitude|\n+--------+---------+\n|28.6139 |77.209   |\n|19.076  |72.8777  |\n|13.0827 |80.2707  |\n|17.385  |78.4867  |\n|12.9716 |77.5946  |\n+--------+---------+\n\n"
     ]
    }
   ],
   "source": [
    "from pyspark.sql import SparkSession\n",
    "from pyspark.sql.types import StructType, StructField, StringType, FloatType\n",
    "# Define the schema for the DataFrame\n",
    "schema = StructType([\n",
    "    StructField(\"Latitude\", FloatType(), True),\n",
    "    StructField(\"Longitude\", FloatType(), True)\n",
    "])\n",
    "\n",
    "# Sample data\n",
    "data = [\n",
    "    (28.6139, 77.2090),  # New Delhi\n",
    "    (19.0760, 72.8777),  # Mumbai\n",
    "    (13.0827, 80.2707),  # Chennai\n",
    "    (17.3850, 78.4867),  # Hyderabad\n",
    "    (12.9716, 77.5946)   # Bangalore\n",
    "]\n",
    "\n",
    "# Create the DataFrame\n",
    "data = spark.createDataFrame(data, schema=schema)\n",
    "\n",
    "# Show the result\n",
    "data.show(truncate=False)\n"
   ]
  },
  {
   "cell_type": "code",
   "execution_count": 0,
   "metadata": {
    "application/vnd.databricks.v1+cell": {
     "cellMetadata": {
      "byteLimit": 2048000,
      "rowLimit": 10000
     },
     "inputWidgets": {},
     "nuid": "7b5e6f2f-5abc-48aa-97db-1cc6ddd18d72",
     "showTitle": false,
     "title": ""
    }
   },
   "outputs": [
    {
     "output_type": "stream",
     "name": "stdout",
     "output_type": "stream",
     "text": [
      "Out[44]: ['Latitude', 'Longitude']"
     ]
    }
   ],
   "source": [
    "data.columns"
   ]
  },
  {
   "cell_type": "code",
   "execution_count": 0,
   "metadata": {
    "application/vnd.databricks.v1+cell": {
     "cellMetadata": {
      "byteLimit": 2048000,
      "rowLimit": 10000
     },
     "inputWidgets": {},
     "nuid": "bd219f53-964c-4492-a34d-e542d2cb7911",
     "showTitle": false,
     "title": ""
    }
   },
   "outputs": [
    {
     "output_type": "stream",
     "name": "stdout",
     "output_type": "stream",
     "text": [
      "+------------+------------------+-----------------+\n|nearest_city|          Latitude|        Longitude|\n+------------+------------------+-----------------+\n|   New Delhi| 28.61389923095703|77.20899963378906|\n|      Mumbai|19.076000213623047|72.87770080566406|\n|     Chennai|  13.0826997756958|80.27069854736328|\n|   Hyderabad|17.385000228881836|78.48670196533203|\n|   Bangalore|12.971599578857422|77.59459686279297|\n+------------+------------------+-----------------+\n\n"
     ]
    }
   ],
   "source": [
    "# Function to find the nearest city from df2 for each row in df1\n",
    "def find_nearest_city(row):\n",
    "    lat = row[\"gpsLatitude\"]\n",
    "    lng = row[\"gpsLongitude\"]\n",
    "    # Query the KDTree to find the index of the nearest city in df2\n",
    "    index = kdtree.query([lat, lng])[1]\n",
    "    # Get the corresponding city name from df2_coords\n",
    "    city_name = df2_coords[index][\"city_ascii\"]\n",
    "    return city_name\n",
    "\n",
    "# Convert df1 to RDD of Rows and apply the find_nearest_city function\n",
    "df1_rdd = data.rdd.map(lambda row: Row(nearest_city=find_nearest_city(row), **row.asDict()))\n",
    "\n",
    "# Create a new DataFrame from the RDD\n",
    "df1_with_nearest_city = df1_rdd.toDF()\n",
    "\n",
    "# Show or perform further operations on df1_with_nearest_city\n",
    "df1_with_nearest_city.show()\n"
   ]
  },
  {
   "cell_type": "code",
   "execution_count": 0,
   "metadata": {
    "application/vnd.databricks.v1+cell": {
     "cellMetadata": {
      "byteLimit": 2048000,
      "rowLimit": 10000
     },
     "inputWidgets": {},
     "nuid": "a904f672-7d20-4aad-8f5a-916cbbd9cb18",
     "showTitle": false,
     "title": ""
    }
   },
   "outputs": [],
   "source": [
    "# Testing with HCV CARGO data "
   ]
  },
  {
   "cell_type": "code",
   "execution_count": 0,
   "metadata": {
    "application/vnd.databricks.v1+cell": {
     "cellMetadata": {
      "byteLimit": 2048000,
      "rowLimit": 10000
     },
     "inputWidgets": {},
     "nuid": "abd6cc26-d16a-4cd7-8602-bc5a220245c5",
     "showTitle": false,
     "title": ""
    }
   },
   "outputs": [],
   "source": [
    "df_HCVcargo = spark.read.csv(\"/FileStore/tables/MAT1267.csv\",header=True,inferSchema=True)"
   ]
  },
  {
   "cell_type": "code",
   "execution_count": 0,
   "metadata": {
    "application/vnd.databricks.v1+cell": {
     "cellMetadata": {
      "byteLimit": 2048000,
      "rowLimit": 10000
     },
     "inputWidgets": {},
     "nuid": "ff4f73e0-e954-4749-8d36-744eece0fa54",
     "showTitle": false,
     "title": ""
    }
   },
   "outputs": [
    {
     "output_type": "stream",
     "name": "stdout",
     "output_type": "stream",
     "text": [
      "+------------+---+----------+-------------+------+------+------+---------+---------+-------------------+----+------------------+------+-----------+------------+----------------+-----+-----+-----+----------+----------------+-------------+--------+--------+--------+-----------------+-------------------+----------+------------------+-------------------+------------------+-----------------+------------------+-----------------------+-----------------------+------------------------+-----------------------+----------------------+---------------------+---------------+--------------+---------+--------+--------------------+--------------------+\n|nearest_city|_c0|Unnamed: 0|   receivedat|accelX|accelY|accelZ|analogIp1|analogIp2|      eventDateTime|fuel|gpsCourseInDegrees|gpsFix|gpsLatitude|gpsLongitude|gpsSignalQuality|gyroX|gyroY|gyroZ|ignitionOn|     messageType|noOfSatForFix|odometer|   speed|tenantId|        vehicleId|     eventDateTimeT| eventdate|eventDateTimeTYear|eventDateTimeTMonth|eventDateTimeTWeek|eventDateTimeTDay|eventDateTimeThour|eventDateTimeTDayofweek|eventDateTimeTDayofyear|eventDateTimeTweekofyear|eventDateTimeTMonthName|eventDateTimeTMonthKey|eventDateTimeTWeekKey|      Time_diff|City/Town_Name|    State|District|                geom|             address|\n+------------+---+----------+-------------+------+------+------+---------+---------+-------------------+----+------------------+------+-----------+------------+----------------+-----+-----+-----+----------+----------------+-------------+--------+--------+--------+-----------------+-------------------+----------+------------------+-------------------+------------------+-----------------+------------------+-----------------------+-----------------------+------------------------+-----------------------+----------------------+---------------------+---------------+--------------+---------+--------+--------------------+--------------------+\n|       Alwar|  0|     14224|Not_Available|  0.44| -0.28|  9.92|        0|        0|2022-03-01T07:29:14| 350|               262|  true|  26.962048|  76.7123968|               0|  0.0|-0.03|-0.01|      true|VehicleTelemetry|           12|  212979|44.09375|      45|MAT794002MAB01267|2022-03-01 07:29:14|2022-03-01|              2022|                  3|                 9|                1|                 7|                      1|                     60|                       9|                    Mar|                2022_3|               2022_9|0 days 00:00:00|      Todabhim|Rajasthan| Karauli|26.962048,76.7123968|Agra Jaipur Bikan...|\n|       Alwar|  1|     14469|Not_Available|  0.44| -0.28|  9.87|        0|        0|2022-03-01T07:30:14| 350|               262|  true| 26.9612928|  76.7055424|              16|  0.0|-0.03|-0.01|      true|VehicleTelemetry|           13|  212980|42.95312|      45|MAT794002MAB01267|2022-03-01 07:30:14|2022-03-01|              2022|                  3|                 9|                1|                 7|                      1|                     60|                       9|                    Mar|                2022_3|               2022_9|0 days 00:01:00|      Abhaneri|Rajasthan|   Dausa|26.9612928,76.705...|Agra Jaipur Bikan...|\n|       Alwar|  2|     14102|Not_Available|  0.42| -0.36|   9.8|        0|        0|2022-03-01T07:31:14| 351|               262|  true| 26.9604416|  76.6986752|              17|  0.0|-0.03|-0.01|      true|VehicleTelemetry|           12|  212981|  40.625|      45|MAT794002MAB01267|2022-03-01 07:31:14|2022-03-01|              2022|                  3|                 9|                1|                 7|                      1|                     60|                       9|                    Mar|                2022_3|               2022_9|0 days 00:01:00|      Abhaneri|Rajasthan|   Dausa|26.9604416,76.698...|Agra Jaipur Bikan...|\n|       Alwar|  3|     14245|Not_Available|  0.33| -0.12|  9.91|        0|        0|2022-03-01T07:32:14| 350|               262|  true|  26.959632|    76.69184|              14|  0.0|-0.03|-0.01|      true|VehicleTelemetry|            9|  212981| 43.3125|      45|MAT794002MAB01267|2022-03-01 07:32:14|2022-03-01|              2022|                  3|                 9|                1|                 7|                      1|                     60|                       9|                    Mar|                2022_3|               2022_9|0 days 00:01:00|      Abhaneri|Rajasthan|   Dausa|  26.959632,76.69184|Agra Jaipur Bikan...|\n|       Alwar|  4|     14574|Not_Available|  0.37| -0.22|  9.77|        0|        0|2022-03-01T07:33:14| 351|               262|  true|   26.95872|  76.6845696|              18|  0.0|-0.03|-0.01|      true|VehicleTelemetry|           11|  212982|44.53125|      45|MAT794002MAB01267|2022-03-01 07:33:14|2022-03-01|              2022|                  3|                 9|                1|                 7|                      1|                     60|                       9|                    Mar|                2022_3|               2022_9|0 days 00:01:00|      Abhaneri|Rajasthan|   Dausa| 26.95872,76.6845696|Agra Jaipur Bikan...|\n|       Alwar|  5|     14188|Not_Available|  0.41| -0.32|  9.82|        0|        0|2022-03-01T07:34:13| 350|               263|  true| 26.9579744|  76.6774976|              17|  0.0|-0.03|-0.01|      true|VehicleTelemetry|           10|  212983|43.35937|      45|MAT794002MAB01267|2022-03-01 07:34:13|2022-03-01|              2022|                  3|                 9|                1|                 7|                      1|                     60|                       9|                    Mar|                2022_3|               2022_9|0 days 00:00:59|      Abhaneri|Rajasthan|   Dausa|26.9579744,76.677...|Agra Jaipur Bikan...|\n|       Alwar|  6|     14607|Not_Available|  0.38| -0.32| 10.02|        0|        0|2022-03-01T07:35:13| 351|               263|  true| 26.9571712|  76.6699904|              19|  0.0|-0.03|-0.01|      true|VehicleTelemetry|           12|  212984| 44.0625|      45|MAT794002MAB01267|2022-03-01 07:35:13|2022-03-01|              2022|                  3|                 9|                1|                 7|                      1|                     60|                       9|                    Mar|                2022_3|               2022_9|0 days 00:01:00|      Abhaneri|Rajasthan|   Dausa|26.9571712,76.669...|Agra Jaipur Bikan...|\n|       Alwar|  7|     14117|Not_Available|  0.43| -0.24|  9.82|        0|        0|2022-03-01T07:36:13| 352|               263|  true|    26.9564|  76.6630528|              22|  0.0|-0.03|-0.01|      true|VehicleTelemetry|           11|  212985| 44.4375|      45|MAT794002MAB01267|2022-03-01 07:36:13|2022-03-01|              2022|                  3|                 9|                1|                 7|                      1|                     60|                       9|                    Mar|                2022_3|               2022_9|0 days 00:01:00|      Abhaneri|Rajasthan|   Dausa|  26.9564,76.6630528|Agra Jaipur Bikan...|\n|       Alwar|  8|     14325|Not_Available|  0.38| -0.27|  9.75|        0|        0|2022-03-01T07:37:13| 351|               263|  true| 26.9555616|   76.655616|              22|  0.0|-0.03|-0.01|      true|VehicleTelemetry|           10|  212985|45.09375|      45|MAT794002MAB01267|2022-03-01 07:37:13|2022-03-01|              2022|                  3|                 9|                1|                 7|                      1|                     60|                       9|                    Mar|                2022_3|               2022_9|0 days 00:01:00|      Abhaneri|Rajasthan|   Dausa|26.9555616,76.655616|Agra Jaipur Bikan...|\n|       Alwar|  9|     14368|Not_Available|  0.36| -0.32|  9.83|        0|        0|2022-03-01T07:38:13| 351|               263|  true| 26.9547456|  76.6483328|              22|  0.0|-0.03|-0.01|      true|VehicleTelemetry|           10|  212986| 45.5625|      45|MAT794002MAB01267|2022-03-01 07:38:13|2022-03-01|              2022|                  3|                 9|                1|                 7|                      1|                     60|                       9|                    Mar|                2022_3|               2022_9|0 days 00:01:00|      Abhaneri|Rajasthan|   Dausa|26.9547456,76.648...|Agra Jaipur Bikan...|\n|       Alwar| 10|     14131|Not_Available|  0.32| -0.28|   9.8|        0|        0|2022-03-01T07:39:13| 350|               262|  true| 26.9539744|  76.6410112|              18|  0.0|-0.03|-0.01|      true|VehicleTelemetry|           10|  212987|45.82812|      45|MAT794002MAB01267|2022-03-01 07:39:13|2022-03-01|              2022|                  3|                 9|                1|                 7|                      1|                     60|                       9|                    Mar|                2022_3|               2022_9|0 days 00:01:00|      Abhaneri|Rajasthan|   Dausa|26.9539744,76.641...|Agra Jaipur Bikan...|\n|       Alwar| 11|     14501|Not_Available|  0.46|  -0.3| 10.04|        0|        0|2022-03-01T07:40:12| 350|               263|  true| 26.9531872|  76.6337024|              14|  0.0|-0.03|-0.01|      true|VehicleTelemetry|            9|  212988| 44.4375|      45|MAT794002MAB01267|2022-03-01 07:40:12|2022-03-01|              2022|                  3|                 9|                1|                 7|                      1|                     60|                       9|                    Mar|                2022_3|               2022_9|0 days 00:00:59|      Abhaneri|Rajasthan|   Dausa|26.9531872,76.633...|Agra Jaipur Bikan...|\n|       Alwar| 12|     14194|Not_Available|  0.37| -0.28|  9.83|        0|        0|2022-03-01T07:41:12| 350|               264|  true| 26.9524928|  76.6263104|               0|  0.0|-0.03|-0.01|      true|VehicleTelemetry|           11|  212988| 47.4375|      45|MAT794002MAB01267|2022-03-01 07:41:12|2022-03-01|              2022|                  3|                 9|                1|                 7|                      1|                     60|                       9|                    Mar|                2022_3|               2022_9|0 days 00:01:00|      Abhaneri|Rajasthan|   Dausa|26.9524928,76.626...|Agra Jaipur Bikan...|\n|       Alwar| 13|     14039|Not_Available|  0.42| -0.29|  9.95|        0|        0|2022-03-01T07:42:12| 349|               262|  true|   26.95176|  76.6187456|               0|  0.0|-0.03|-0.01|      true|VehicleTelemetry|           10|  212989|45.90625|      45|MAT794002MAB01267|2022-03-01 07:42:12|2022-03-01|              2022|                  3|                 9|                1|                 7|                      1|                     60|                       9|                    Mar|                2022_3|               2022_9|0 days 00:01:00|      Abhaneri|Rajasthan|   Dausa| 26.95176,76.6187456|Agra Jaipur Bikan...|\n|       Alwar| 14|     14547|Not_Available|  0.36| -0.26|  9.77|        0|        0|2022-03-01T07:43:12| 350|               263|  true| 26.9508992|   76.611136|               0|  0.0|-0.03|-0.01|      true|VehicleTelemetry|            9|  212990|47.57812|      45|MAT794002MAB01267|2022-03-01 07:43:12|2022-03-01|              2022|                  3|                 9|                1|                 7|                      1|                     60|                       9|                    Mar|                2022_3|               2022_9|0 days 00:01:00|      Abhaneri|Rajasthan|   Dausa|26.9508992,76.611136|Agra Jaipur Bikan...|\n|       Alwar| 15|     14301|Not_Available|  0.31| -0.25|  9.73|        0|        0|2022-03-01T07:44:12| 350|               263|  true| 26.9500928|  76.6034752|               0|  0.0|-0.03|-0.01|      true|VehicleTelemetry|           10|  212991|47.82812|      45|MAT794002MAB01267|2022-03-01 07:44:12|2022-03-01|              2022|                  3|                 9|                1|                 7|                      1|                     60|                       9|                    Mar|                2022_3|               2022_9|0 days 00:01:00|      Abhaneri|Rajasthan|   Dausa|26.9500928,76.603...|Agra Jaipur Bikan...|\n|       Alwar| 16|     14585|Not_Available|   0.4| -0.28|  9.83|        0|        0|2022-03-01T07:45:12| 348|               265|  true|  26.949344|    76.59584|              13|  0.0|-0.03|-0.01|      true|VehicleTelemetry|           11|  212991|45.23437|      45|MAT794002MAB01267|2022-03-01 07:45:12|2022-03-01|              2022|                  3|                 9|                1|                 7|                      1|                     60|                       9|                    Mar|                2022_3|               2022_9|0 days 00:01:00|      Abhaneri|Rajasthan|   Dausa|  26.949344,76.59584|Agra Jaipur Bikan...|\n|       Alwar| 17|     14582|Not_Available|  0.56| -0.35|  9.76|        0|        0|2022-03-01T07:46:11| 347|               262|  true| 26.9486176|  76.5883392|              17|  0.0|-0.03|-0.01|      true|VehicleTelemetry|           11|  212992|43.35937|      45|MAT794002MAB01267|2022-03-01 07:46:11|2022-03-01|              2022|                  3|                 9|                1|                 7|                      1|                     60|                       9|                    Mar|                2022_3|               2022_9|0 days 00:00:59|      Abhaneri|Rajasthan|   Dausa|26.9486176,76.588...|Agra Jaipur Bikan...|\n|       Alwar| 18|     14295|Not_Available|   0.0| -0.26|  9.67|        0|        0|2022-03-01T07:47:11| 351|               263|  true|  26.947744|  76.5806336|              24|  0.0|-0.03|-0.01|      true|VehicleTelemetry|           10|  212993|39.53125|      45|MAT794002MAB01267|2022-03-01 07:47:11|2022-03-01|              2022|                  3|                 9|                1|                 7|                      1|                     60|                       9|                    Mar|                2022_3|               2022_9|0 days 00:01:00|      Abhaneri|Rajasthan|   Dausa|26.947744,76.5806336|Bamanpura, Sikari...|\n|       Alwar| 19|     14377|Not_Available|  0.37|  0.23|  9.84|        0|        0|2022-03-01T07:48:11| 339|                85|  true|  26.947568|  76.5796672|              20|  0.0|-0.03|-0.01|      true|VehicleTelemetry|           12|  212993|     0.0|      45|MAT794002MAB01267|2022-03-01 07:48:11|2022-03-01|              2022|                  3|                 9|                1|                 7|                      1|                     60|                       9|                    Mar|                2022_3|               2022_9|0 days 00:01:00|      Abhaneri|Rajasthan|   Dausa|26.947568,76.5796672|Agra Jaipur Bikan...|\n+------------+---+----------+-------------+------+------+------+---------+---------+-------------------+----+------------------+------+-----------+------------+----------------+-----+-----+-----+----------+----------------+-------------+--------+--------+--------+-----------------+-------------------+----------+------------------+-------------------+------------------+-----------------+------------------+-----------------------+-----------------------+------------------------+-----------------------+----------------------+---------------------+---------------+--------------+---------+--------+--------------------+--------------------+\nonly showing top 20 rows\n\n"
     ]
    }
   ],
   "source": [
    "def find_nearest_city(row):\n",
    "    lat = row[\"gpsLatitude\"]\n",
    "    lng = row[\"gpsLongitude\"]\n",
    "    # Query the KDTree to find the index of the nearest city in df2\n",
    "    index = kdtree.query([lat, lng])[1]\n",
    "    # Get the corresponding city name from df2_coords\n",
    "    city_name = df2_coords[index][\"city_ascii\"]\n",
    "    return city_name\n",
    "\n",
    "# Convert df1 to RDD of Rows and apply the find_nearest_city function\n",
    "df1_rdd = df_HCVcargo.rdd.map(lambda row: Row(nearest_city=find_nearest_city(row), **row.asDict()))\n",
    "\n",
    "# Create a new DataFrame from the RDD\n",
    "df1_with_nearest_city = df1_rdd.toDF()\n",
    "\n",
    "# Show or perform further operations on df1_with_nearest_city\n",
    "df1_with_nearest_city.show()"
   ]
  },
  {
   "cell_type": "code",
   "execution_count": 0,
   "metadata": {
    "application/vnd.databricks.v1+cell": {
     "cellMetadata": {
      "byteLimit": 2048000,
      "rowLimit": 10000
     },
     "inputWidgets": {},
     "nuid": "ce31418a-0c64-4324-b79e-22171cf46f36",
     "showTitle": false,
     "title": ""
    }
   },
   "outputs": [
    {
     "output_type": "stream",
     "name": "stdout",
     "output_type": "stream",
     "text": [
      "Out[52]: ['nearest_city',\n '_c0',\n 'Unnamed: 0',\n 'receivedat',\n 'accelX',\n 'accelY',\n 'accelZ',\n 'analogIp1',\n 'analogIp2',\n 'eventDateTime',\n 'fuel',\n 'gpsCourseInDegrees',\n 'gpsFix',\n 'gpsLatitude',\n 'gpsLongitude',\n 'gpsSignalQuality',\n 'gyroX',\n 'gyroY',\n 'gyroZ',\n 'ignitionOn',\n 'messageType',\n 'noOfSatForFix',\n 'odometer',\n 'speed',\n 'tenantId',\n 'vehicleId',\n 'eventDateTimeT',\n 'eventdate',\n 'eventDateTimeTYear',\n 'eventDateTimeTMonth',\n 'eventDateTimeTWeek',\n 'eventDateTimeTDay',\n 'eventDateTimeThour',\n 'eventDateTimeTDayofweek',\n 'eventDateTimeTDayofyear',\n 'eventDateTimeTweekofyear',\n 'eventDateTimeTMonthName',\n 'eventDateTimeTMonthKey',\n 'eventDateTimeTWeekKey',\n 'Time_diff',\n 'City/Town_Name',\n 'State',\n 'District',\n 'geom',\n 'address']"
     ]
    }
   ],
   "source": [
    "df1_with_nearest_city.columns"
   ]
  },
  {
   "cell_type": "code",
   "execution_count": 0,
   "metadata": {
    "application/vnd.databricks.v1+cell": {
     "cellMetadata": {
      "byteLimit": 2048000,
      "rowLimit": 10000
     },
     "inputWidgets": {},
     "nuid": "0cdc20ab-eba7-47ee-9a2b-c9ba51793936",
     "showTitle": false,
     "title": ""
    }
   },
   "outputs": [
    {
     "output_type": "stream",
     "name": "stdout",
     "output_type": "stream",
     "text": [
      "+-----------------+-----------+------------+------------+\n|        vehicleId|gpsLatitude|gpsLongitude|nearest_city|\n+-----------------+-----------+------------+------------+\n|MAT794002MAB01267|  26.962048|  76.7123968|       Alwar|\n|MAT794002MAB01267| 26.9612928|  76.7055424|       Alwar|\n|MAT794002MAB01267| 26.9604416|  76.6986752|       Alwar|\n|MAT794002MAB01267|  26.959632|    76.69184|       Alwar|\n|MAT794002MAB01267|   26.95872|  76.6845696|       Alwar|\n|MAT794002MAB01267| 26.9579744|  76.6774976|       Alwar|\n|MAT794002MAB01267| 26.9571712|  76.6699904|       Alwar|\n|MAT794002MAB01267|    26.9564|  76.6630528|       Alwar|\n|MAT794002MAB01267| 26.9555616|   76.655616|       Alwar|\n|MAT794002MAB01267| 26.9547456|  76.6483328|       Alwar|\n|MAT794002MAB01267| 26.9539744|  76.6410112|       Alwar|\n|MAT794002MAB01267| 26.9531872|  76.6337024|       Alwar|\n|MAT794002MAB01267| 26.9524928|  76.6263104|       Alwar|\n|MAT794002MAB01267|   26.95176|  76.6187456|       Alwar|\n|MAT794002MAB01267| 26.9508992|   76.611136|       Alwar|\n|MAT794002MAB01267| 26.9500928|  76.6034752|       Alwar|\n|MAT794002MAB01267|  26.949344|    76.59584|       Alwar|\n|MAT794002MAB01267| 26.9486176|  76.5883392|       Alwar|\n|MAT794002MAB01267|  26.947744|  76.5806336|       Alwar|\n|MAT794002MAB01267|  26.947568|  76.5796672|       Alwar|\n|MAT794002MAB01267| 26.9475872|  76.5798208|       Alwar|\n|MAT794002MAB01267| 26.9475872|  76.5798208|       Alwar|\n|MAT794002MAB01267| 26.9475968|  76.5798208|       Alwar|\n|MAT794002MAB01267| 26.9475712|  76.5790208|       Alwar|\n|MAT794002MAB01267| 26.9475712|  76.5790208|       Alwar|\n|MAT794002MAB01267| 26.9475744|  76.5790272|       Alwar|\n|MAT794002MAB01267| 26.9475776|  76.5790272|       Alwar|\n|MAT794002MAB01267| 26.9475808|  76.5790272|       Alwar|\n|MAT794002MAB01267| 26.9475808|  76.5790272|       Alwar|\n|MAT794002MAB01267| 26.9475712|  76.5786688|       Alwar|\n|MAT794002MAB01267|  26.947664|   76.577216|       Alwar|\n|MAT794002MAB01267|  26.947936|  76.5703296|       Alwar|\n|MAT794002MAB01267|  26.946448|  76.5632576|       Alwar|\n|MAT794002MAB01267| 26.9444992|  76.5574848|       Alwar|\n|MAT794002MAB01267| 26.9434048|    76.55392|       Alwar|\n|MAT794002MAB01267| 26.9411616|  76.5469696|       Alwar|\n|MAT794002MAB01267|  26.938928|  76.5403968|       Alwar|\n|MAT794002MAB01267|  26.936704|  76.5335616|       Alwar|\n|MAT794002MAB01267| 26.9345088|  76.5268352|       Alwar|\n|MAT794002MAB01267| 26.9315808|  76.5202112|       Alwar|\n|MAT794002MAB01267|  26.928256|  76.5138176|       Alwar|\n|MAT794002MAB01267| 26.9245792|  76.5070144|      Jaipur|\n|MAT794002MAB01267| 26.9232736|  76.5005248|      Jaipur|\n|MAT794002MAB01267| 26.9219072|  76.4934016|      Jaipur|\n|MAT794002MAB01267| 26.9205856|  76.4863616|      Jaipur|\n|MAT794002MAB01267| 26.9198336|  76.4824384|      Jaipur|\n|MAT794002MAB01267| 26.9196128|  76.4792768|      Jaipur|\n|MAT794002MAB01267|    26.9184|  76.4728448|      Jaipur|\n|MAT794002MAB01267| 26.9155936|  76.4668736|      Jaipur|\n|MAT794002MAB01267| 26.9149216|  76.4597952|      Jaipur|\n+-----------------+-----------+------------+------------+\nonly showing top 50 rows\n\n"
     ]
    }
   ],
   "source": [
    "df1_with_nearest_city.select('vehicleId','gpsLatitude','gpsLongitude','nearest_city').show(50)"
   ]
  },
  {
   "cell_type": "code",
   "execution_count": 0,
   "metadata": {
    "application/vnd.databricks.v1+cell": {
     "cellMetadata": {},
     "inputWidgets": {},
     "nuid": "6e68e486-24a6-415b-b7f9-2d7317e33ad4",
     "showTitle": false,
     "title": ""
    }
   },
   "outputs": [],
   "source": []
  }
 ],
 "metadata": {
  "application/vnd.databricks.v1+notebook": {
   "dashboards": [],
   "language": "python",
   "notebookMetadata": {
    "pythonIndentUnit": 4
   },
   "notebookName": "ReverseGeocodeHeatMap",
   "widgets": {}
  }
 },
 "nbformat": 4,
 "nbformat_minor": 0
}
